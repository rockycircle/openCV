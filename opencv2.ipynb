{
 "cells": [
  {
   "cell_type": "code",
   "execution_count": 4,
   "metadata": {},
   "outputs": [
    {
     "data": {
      "text/plain": [
       "-1"
      ]
     },
     "execution_count": 4,
     "metadata": {},
     "output_type": "execute_result"
    }
   ],
   "source": [
    "#彩色图片直方图\n",
    "import cv2\n",
    "import numpy as np\n",
    "def ImageHist(image,type):\n",
    "    color=(255,255,255)\n",
    "    windowName = 'Gray'\n",
    "    if type == 31:\n",
    "        color = (255,0,0)\n",
    "        windowName = 'B Hist'\n",
    "    elif type ==32:\n",
    "        color = (0,255,0)\n",
    "        windowName = 'G Hist'\n",
    "    elif type ==33:    \n",
    "        color = (0,0,255)\n",
    "        windowName = 'R Hist'\n",
    "    #1 image 2 [0] 3 mask None 4 256 5 0-255\n",
    "    hist = cv2.calcHist([image],[0],None,[256],[0.0,255.0])\n",
    "    minV,maxV,minL,maxL = cv2.minMaxLoc(hist)\n",
    "    histImg = np.zeros([256,256,3],np.uint8)\n",
    "    for h in range(256):\n",
    "        intenNormal = int(hist[h]*256/maxV)\n",
    "        cv2.line(histImg,(h,256),(h,256-intenNormal),color)\n",
    "    cv2.imshow(windowName,histImg)\n",
    "    return histImg\n",
    "img = cv2.imread(\"E:/tensflow/picturedeal/tim.jpg\",1)\n",
    "channels = cv2.split(img)#RGB - R G B\n",
    "for i in range(0,3):\n",
    "    ImageHist(channels[i],31+i)\n",
    "cv2.waitKey(0)"
   ]
  },
  {
   "cell_type": "code",
   "execution_count": 1,
   "metadata": {},
   "outputs": [
    {
     "data": {
      "text/plain": [
       "-1"
      ]
     },
     "execution_count": 1,
     "metadata": {},
     "output_type": "execute_result"
    }
   ],
   "source": [
    "#灰度直方图均衡化\n",
    "import cv2\n",
    "import numpy as np\n",
    "img = cv2.imread(\"E:/tensflow/picturedeal/tim.jpg\",1)\n",
    "gray = cv2.cvtColor(img,cv2.COLOR_BGR2GRAY)\n",
    "cv2.imshow('src',gray)\n",
    "dst = cv2.equalizeHist(gray)\n",
    "cv2.imshow('dst',dst)\n",
    "cv2.waitKey(0)\n",
    "\n",
    "\n"
   ]
  },
  {
   "cell_type": "code",
   "execution_count": 1,
   "metadata": {},
   "outputs": [
    {
     "data": {
      "text/plain": [
       "-1"
      ]
     },
     "execution_count": 1,
     "metadata": {},
     "output_type": "execute_result"
    }
   ],
   "source": [
    "#彩色图片的直方图均衡化\n",
    "import cv2\n",
    "import numpy as np\n",
    "img = cv2.imread(\"E:/tensflow/picturedeal/tim.jpg\",1)\n",
    "cv2.imshow('src',img)\n",
    "(b,g,r) = cv2.split(img)\n",
    "bH = cv2.equalizeHist(b)\n",
    "gH = cv2.equalizeHist(g)\n",
    "rH = cv2.equalizeHist(r)\n",
    "result = cv2.merge((bH,gH,rH))\n",
    "\n",
    "cv2.imshow('dst',result)\n",
    "cv2.waitKey(0)"
   ]
  },
  {
   "cell_type": "code",
   "execution_count": 2,
   "metadata": {},
   "outputs": [
    {
     "data": {
      "text/plain": [
       "-1"
      ]
     },
     "execution_count": 2,
     "metadata": {},
     "output_type": "execute_result"
    }
   ],
   "source": [
    "#YUV 直方图均衡化\n",
    "import cv2\n",
    "import numpy as np\n",
    "img = cv2.imread(\"E:/tensflow/picturedeal/tim.jpg\",1)\n",
    "imgYUV = cv2.cvtColor(img,cv2.COLOR_BGR2YCrCb)\n",
    "cv2.imshow('src',img)\n",
    "channelYUV = cv2.split(imgYUV)\n",
    "channelYUV[0] = cv2.equalizeHist(channelYUV[0])\n",
    "channels = cv2.merge(channelYUV)\n",
    "result = cv2.cvtColor(channels,cv2.COLOR_YCrCb2RGB)\n",
    "cv2.imshow('dst',result)\n",
    "cv2.waitKey(0)\n",
    "\n"
   ]
  },
  {
   "cell_type": "code",
   "execution_count": 6,
   "metadata": {},
   "outputs": [
    {
     "data": {
      "text/plain": [
       "-1"
      ]
     },
     "execution_count": 6,
     "metadata": {},
     "output_type": "execute_result"
    }
   ],
   "source": [
    "#修补图片 之破坏图片\n",
    "import cv2\n",
    "import numpy as np\n",
    "img = cv2.imread(\"E:/tensflow/picturedeal/tim.jpg\",1)\n",
    "for i in range(200,250):\n",
    "    img[i,200] = (255,255,255)\n",
    "    img[i,200+1] = (255,255,255)\n",
    "    img[i,200-1] = (255,255,255)\n",
    "\n",
    "for i in range(150,250):\n",
    "    img[250,i] = (255,255,255)\n",
    "    img[250+1,i] = (255,255,255)\n",
    "    img[250-1,i] = (255,255,255)\n",
    "cv2.imwrite(\"E:/tensflow/picturedeal/tim1.jpg\",img)\n",
    "cv2.imshow('image',img)\n",
    "cv2.waitKey(0)\n",
    "\n",
    "\n"
   ]
  },
  {
   "cell_type": "code",
   "execution_count": 1,
   "metadata": {},
   "outputs": [
    {
     "data": {
      "text/plain": [
       "-1"
      ]
     },
     "execution_count": 1,
     "metadata": {},
     "output_type": "execute_result"
    }
   ],
   "source": [
    "#修补图片\n",
    "import cv2\n",
    "import numpy as np\n",
    "img = cv2.imread(\"E:/tensflow/picturedeal/tim1.jpg\",1)\n",
    "cv2.imshow('src',img)\n",
    "imgInfo = img.shape\n",
    "height = imgInfo[0]\n",
    "width = imgInfo[1]\n",
    "paint = np.zeros((height,width),np.uint8)\n",
    "for i in range(200,250):\n",
    "    paint[i,200] = 255\n",
    "    paint[i,200+1] = 255\n",
    "    paint[i,200-1] = 255\n",
    "\n",
    "for i in range(150,250):\n",
    "    paint[250,i] = 255\n",
    "    paint[250+1,i] = 255\n",
    "    paint[250-1,i] = 255\n",
    "\n",
    "cv2.imshow('paint',paint)\n",
    "\n",
    "imgDst = cv2.inpaint(img,paint,3,cv2.INPAINT_TELEA)\n",
    "\n",
    "cv2.imshow('image',imgDst)\n",
    "cv2.waitKey(0)\n",
    "\n"
   ]
  },
  {
   "cell_type": "code",
   "execution_count": 7,
   "metadata": {},
   "outputs": [
    {
     "data": {
      "image/png": "[encoded data removed]",
      "text/plain": [
       "<Figure size 432x288 with 1 Axes>"
      ]
     },
     "metadata": {
      "needs_background": "light"
     },
     "output_type": "display_data"
    },
    {
     "data": {
      "text/plain": [
       "-1"
      ]
     },
     "execution_count": 7,
     "metadata": {},
     "output_type": "execute_result"
    }
   ],
   "source": [
    "#灰度图片直方图\n",
    "#本质：统计每个像素灰度 出现的概率 0-255 p\n",
    "import cv2\n",
    "import numpy as np\n",
    "import matplotlib.pyplot as plt\n",
    "img = cv2.imread(\"E:/tensflow/picturedeal/tim1.jpg\",1)\n",
    "imgInfo = img.shape\n",
    "height = imgInfo[0]\n",
    "width = imgInfo[1]\n",
    "gray = cv2.cvtColor(img,cv2.COLOR_BGR2GRAY)\n",
    "count = np.zeros(256,np.float)\n",
    "for i in range(0,height):\n",
    "    for j in range(0,width):\n",
    "        pixel = gray[i,j]\n",
    "        index = int(pixel)\n",
    "        count[index] = count[index]+1\n",
    "for i in range(0,255):\n",
    "    count[i] = count[i]/(height*width)\n",
    "x = np.linspace(0,255,256)    \n",
    "y = count\n",
    "plt.bar(x,y,0.9,alpha = 1,color='b')\n",
    "plt.show()\n",
    "cv2.waitKey(0)\n",
    "\n",
    "\n",
    "\n"
   ]
  },
  {
   "cell_type": "code",
   "execution_count": 6,
   "metadata": {},
   "outputs": [
    {
     "data": {
      "image/png": "[encoded data removed]",
      "text/plain": [
       "<Figure size 432x288 with 1 Axes>"
      ]
     },
     "metadata": {
      "needs_background": "light"
     },
     "output_type": "display_data"
    },
    {
     "data": {
      "image/png": "[encoded data removed]",
      "text/plain": [
       "<Figure size 432x288 with 1 Axes>"
      ]
     },
     "metadata": {
      "needs_background": "light"
     },
     "output_type": "display_data"
    },
    {
     "data": {
      "image/png": "[encoded data removed]",
      "text/plain": [
       "<Figure size 432x288 with 1 Axes>"
      ]
     },
     "metadata": {
      "needs_background": "light"
     },
     "output_type": "display_data"
    },
    {
     "data": {
      "text/plain": [
       "-1"
      ]
     },
     "execution_count": 6,
     "metadata": {},
     "output_type": "execute_result"
    }
   ],
   "source": [
    "#彩色图片直方图\n",
    "#本质：统计每个像素灰度 出现的概率 0-255 p\n",
    "import cv2\n",
    "import numpy as np\n",
    "import matplotlib.pyplot as plt\n",
    "img = cv2.imread(\"E:/tensflow/picturedeal/tim1.jpg\",1)\n",
    "imgInfo = img.shape\n",
    "height = imgInfo[0]\n",
    "width = imgInfo[1]\n",
    "\n",
    "count_b = np.zeros(256,np.float)\n",
    "count_g = np.zeros(256,np.float)\n",
    "count_r = np.zeros(256,np.float)\n",
    "for i in range(0,height):\n",
    "    for j in range(0,width):\n",
    "        (b,g,r) = img[i,j]\n",
    "        index_b = int(b)\n",
    "        index_g = int(g)\n",
    "        index_r = int(r)\n",
    "        count_b[index_b] = count_b[index_b]+1\n",
    "        count_g[index_g] = count_g[index_g]+1\n",
    "        count_r[index_r] = count_r[index_r]+1\n",
    "for i in range(0,256):\n",
    "        count_b[i] = count_b[i]/(height*width)\n",
    "        count_g[i] = count_g[i]/(height*width)\n",
    "        count_r[i] = count_r[i]/(height*width)\n",
    "x = np.linspace(0,255,256)\n",
    "y1 = count_b\n",
    "plt.figure()\n",
    "plt.bar(x,y1,0.9,alpha=1,color='b')\n",
    "y2 = count_g\n",
    "plt.figure()\n",
    "plt.bar(x,y2,0.9,alpha=1,color='g')   \n",
    "y3 = count_r        \n",
    "plt.figure()    \n",
    "plt.bar(x,y3,0.9,alpha=1,color='r')\n",
    "plt.show()\n",
    "cv2.waitKey(0)"
   ]
  },
  {
   "cell_type": "code",
   "execution_count": 3,
   "metadata": {},
   "outputs": [
    {
     "name": "stdout",
     "output_type": "stream",
     "text": [
      "[0.00000000e+00 0.00000000e+00 0.00000000e+00 0.00000000e+00\n",
      " 0.00000000e+00 0.00000000e+00 0.00000000e+00 0.00000000e+00\n",
      " 0.00000000e+00 0.00000000e+00 0.00000000e+00 0.00000000e+00\n",
      " 1.52587891e-05 1.52587891e-05 1.52587891e-05 1.52587891e-05\n",
      " 3.05175781e-05 3.05175781e-05 6.10351562e-05 1.52587891e-04\n",
      " 2.28881836e-04 3.35693359e-04 5.34057617e-04 6.56127930e-04\n",
      " 7.93457031e-04 9.15527344e-04 1.17492676e-03 1.69372559e-03\n",
      " 2.18200684e-03 2.74658203e-03 3.28063965e-03 4.28771973e-03\n",
      " 5.27954102e-03 6.45446777e-03 7.81250000e-03 9.50622559e-03\n",
      " 1.11694336e-02 1.32141113e-02 1.54113770e-02 1.78985596e-02\n",
      " 2.11029053e-02 2.47192383e-02 2.91290283e-02 3.39813232e-02\n",
      " 3.92761230e-02 4.54864502e-02 5.22003174e-02 5.84869385e-02\n",
      " 6.63146973e-02 7.42034912e-02 8.23516846e-02 9.06372070e-02\n",
      " 9.78851318e-02 1.05377197e-01 1.12686157e-01 1.19537354e-01\n",
      " 1.26129150e-01 1.31118774e-01 1.36062622e-01 1.41357422e-01\n",
      " 1.45507812e-01 1.49642944e-01 1.53411865e-01 1.57379150e-01\n",
      " 1.61254883e-01 1.64932251e-01 1.68746948e-01 1.71966553e-01\n",
      " 1.75170898e-01 1.78421021e-01 1.81579590e-01 1.84509277e-01\n",
      " 1.88232422e-01 1.92153931e-01 1.95648193e-01 1.99157715e-01\n",
      " 2.02636719e-01 2.06130981e-01 2.10021973e-01 2.13409424e-01\n",
      " 2.17254639e-01 2.20611572e-01 2.24029541e-01 2.27218628e-01\n",
      " 2.30987549e-01 2.34893799e-01 2.38647461e-01 2.42614746e-01\n",
      " 2.46719360e-01 2.51205444e-01 2.55767822e-01 2.60162354e-01\n",
      " 2.64678955e-01 2.69607544e-01 2.74383545e-01 2.79418945e-01\n",
      " 2.84805298e-01 2.91717529e-01 2.99758911e-01 3.08792114e-01\n",
      " 3.16986084e-01 3.25225830e-01 3.33114624e-01 3.40530396e-01\n",
      " 3.47640991e-01 3.54598999e-01 3.60534668e-01 3.65997314e-01\n",
      " 3.70620728e-01 3.75717163e-01 3.80493164e-01 3.85604858e-01\n",
      " 3.90548706e-01 3.95355225e-01 4.00955200e-01 4.06127930e-01\n",
      " 4.11270142e-01 4.16763306e-01 4.22363281e-01 4.28436279e-01\n",
      " 4.34478760e-01 4.42047119e-01 4.48745728e-01 4.56207275e-01\n",
      " 4.63546753e-01 4.71099854e-01 4.79278564e-01 4.89746094e-01\n",
      " 4.99160767e-01 5.08178711e-01 5.18478394e-01 5.28366089e-01\n",
      " 5.36407471e-01 5.43869019e-01 5.50964355e-01 5.57128906e-01\n",
      " 5.63980103e-01 5.71105957e-01 5.78964233e-01 5.87417603e-01\n",
      " 5.96115112e-01 6.04614258e-01 6.13235474e-01 6.22909546e-01\n",
      " 6.33590698e-01 6.43234253e-01 6.51550293e-01 6.59866333e-01\n",
      " 6.68045044e-01 6.75857544e-01 6.84310913e-01 6.93099976e-01\n",
      " 7.01904297e-01 7.12219238e-01 7.23602295e-01 7.34283447e-01\n",
      " 7.44537354e-01 7.54837036e-01 7.63610840e-01 7.72201538e-01\n",
      " 7.80258179e-01 7.87277222e-01 7.93579102e-01 7.99316406e-01\n",
      " 8.04656982e-01 8.10256958e-01 8.15429688e-01 8.19915771e-01\n",
      " 8.24645996e-01 8.28796387e-01 8.33389282e-01 8.38317871e-01\n",
      " 8.43093872e-01 8.48205566e-01 8.53286743e-01 8.58291626e-01\n",
      " 8.63235474e-01 8.67706299e-01 8.72085571e-01 8.76281738e-01\n",
      " 8.79501343e-01 8.82644653e-01 8.85467529e-01 8.88519287e-01\n",
      " 8.90777588e-01 8.93356323e-01 8.95645142e-01 8.98056030e-01\n",
      " 9.00711060e-01 9.03335571e-01 9.06173706e-01 9.09225464e-01\n",
      " 9.12506104e-01 9.15664673e-01 9.18991089e-01 9.22546387e-01\n",
      " 9.25537109e-01 9.28863525e-01 9.32128906e-01 9.35165405e-01\n",
      " 9.38430786e-01 9.41818237e-01 9.44992065e-01 9.48547363e-01\n",
      " 9.52026367e-01 9.55291748e-01 9.59060669e-01 9.62615967e-01\n",
      " 9.66857910e-01 9.70520020e-01 9.74487305e-01 9.78088379e-01\n",
      " 9.81399536e-01 9.84786987e-01 9.87442017e-01 9.89425659e-01\n",
      " 9.91088867e-01 9.92340088e-01 9.93820190e-01 9.94827271e-01\n",
      " 9.95635986e-01 9.96505737e-01 9.97192383e-01 9.97817993e-01\n",
      " 9.98199463e-01 9.98489380e-01 9.98809814e-01 9.99160767e-01\n",
      " 9.99389648e-01 9.99557495e-01 9.99755859e-01 9.99832153e-01\n",
      " 9.99877930e-01 9.99893188e-01 9.99954224e-01 9.99969482e-01\n",
      " 9.99984741e-01 9.99984741e-01 9.99984741e-01 1.00000000e+00\n",
      " 1.00000000e+00 1.00000000e+00 1.00000000e+00 1.00000000e+00\n",
      " 1.00000000e+00 1.00000000e+00 1.00000000e+00 1.00000000e+00\n",
      " 1.00000000e+00 1.00000000e+00 1.00000000e+00 1.00000000e+00\n",
      " 1.00000000e+00 1.00000000e+00 1.00000000e+00 1.00000000e+00]\n"
     ]
    },
    {
     "data": {
      "text/plain": [
       "-1"
      ]
     },
     "execution_count": 3,
     "metadata": {},
     "output_type": "execute_result"
    }
   ],
   "source": [
    "#灰度直方图均衡化1\n",
    "#本质：统计每个像素灰度 出现的概率 0-255 p\n",
    "#累计概率\n",
    "#1 0.2  0.2\n",
    "#2 0.3  0.5\n",
    "#3 0.1  0.6\n",
    "#256\n",
    "#100 0.5 255*0.5 = new\n",
    "import cv2\n",
    "import numpy as np\n",
    "import matplotlib.pyplot as plt\n",
    "img = cv2.imread(\"E:/tensflow/picturedeal/tim.jpg\",1)\n",
    "cv2.imshow('src',img)\n",
    "imgInfo = img.shape\n",
    "height = imgInfo[0]\n",
    "width = imgInfo[1]\n",
    "gray = cv2.cvtColor(img,cv2.COLOR_BGR2GRAY)\n",
    "count = np.zeros(256,np.float)\n",
    "for i in range(0,height):\n",
    "    for j in range(0,width):\n",
    "        pixel = gray[i,j]\n",
    "        index = int(pixel)\n",
    "        count[index] = count[index]+1\n",
    "for i in range(0,255):\n",
    "    count[i] = count[i]/(height*width)\n",
    "sum1 = float(0)\n",
    "for i in range(0,256):\n",
    "    sum1 = sum1 + count[i]\n",
    "    count[i] = sum1\n",
    "#print(count)\n",
    "#计算映射表\n",
    "map1 = np.zeros(256,np.uint16)\n",
    "for i in range(0,256):\n",
    "    map1[i] = np.uint16(count[i]*255)\n",
    "#映射\n",
    "for i in range(0,height):\n",
    "    for j in range(0,width):\n",
    "        pixel = gray[i,j]\n",
    "        gray[i,j] = map1[pixel]\n",
    "cv2.imshow('dst',gray)\n",
    "cv2.waitKey(0)\n",
    "\n",
    "\n",
    "\n",
    "\n",
    "\n",
    "\n"
   ]
  },
  {
   "cell_type": "code",
   "execution_count": 1,
   "metadata": {},
   "outputs": [
    {
     "data": {
      "text/plain": [
       "-1"
      ]
     },
     "execution_count": 1,
     "metadata": {},
     "output_type": "execute_result"
    }
   ],
   "source": [
    "#灰度直方图均衡化1\n",
    "#本质：统计每个像素灰度 出现的概率 0-255 p\n",
    "#累计概率\n",
    "#1 0.2  0.2\n",
    "#2 0.3  0.5\n",
    "#3 0.1  0.6\n",
    "#256\n",
    "#100 0.5 255*0.5 = new\n",
    "import cv2\n",
    "import numpy as np\n",
    "import matplotlib.pyplot as plt\n",
    "img = cv2.imread(\"E:/tensflow/picturedeal/tim.jpg\",1)\n",
    "cv2.imshow('src',img)\n",
    "imgInfo = img.shape\n",
    "height = imgInfo[0]\n",
    "width = imgInfo[1]\n",
    "\n",
    "count_b = np.zeros(256,np.float)\n",
    "count_g = np.zeros(256,np.float)\n",
    "count_r = np.zeros(256,np.float)\n",
    "\n",
    "for i in range(0,height):\n",
    "    for j in range(0,width):\n",
    "        (b,g,r) = img[i,j]\n",
    "        index_b = int(b)\n",
    "        index_g = int(g)\n",
    "        index_r = int(r)\n",
    "        count_b[index_b] = count_b[index_b]+1\n",
    "        count_g[index_g] = count_g[index_g]+1\n",
    "        count_r[index_r] = count_r[index_r]+1\n",
    "for i in range(0,255):\n",
    "    count_b[i] = count_b[i]/(height*width)\n",
    "    count_g[i] = count_g[i]/(height*width)\n",
    "    count_r[i] = count_r[i]/(height*width)\n",
    "sum_b = float(0)\n",
    "sum_g = float(0)\n",
    "sum_r = float(0)\n",
    "\n",
    "for i in range(0,256):\n",
    "    sum_b = sum_b + count_b[i]\n",
    "    sum_g = sum_g + count_g[i]\n",
    "    sum_r = sum_r + count_r[i]\n",
    "    count_b[i] = sum_b\n",
    "    count_g[i] = sum_g\n",
    "    count_r[i] = sum_r\n",
    "#print(count)\n",
    "#计算映射表\n",
    "map_b = np.zeros(256,np.uint16)\n",
    "map_g = np.zeros(256,np.uint16)\n",
    "map_r = np.zeros(256,np.uint16)\n",
    "for i in range(0,256):\n",
    "    map_b[i] = np.uint16(count_b[i]*255)\n",
    "    map_g[i] = np.uint16(count_g[i]*255)\n",
    "    map_r[i] = np.uint16(count_r[i]*255)\n",
    "#映射\n",
    "dst = np.zeros((height,width,3),np.uint8)\n",
    "for i in range(0,height):\n",
    "    for j in range(0,width):\n",
    "        (b,g,r) = img[i,j]\n",
    "        b = map_b[b]\n",
    "        g = map_g[g]\n",
    "        r = map_r[r]\n",
    "        dst[i,j] = (b,g,r)\n",
    "cv2.imshow('dst',dst)\n",
    "cv2.waitKey(0)"
   ]
  },
  {
   "cell_type": "code",
   "execution_count": 2,
   "metadata": {},
   "outputs": [
    {
     "data": {
      "text/plain": [
       "-1"
      ]
     },
     "execution_count": 2,
     "metadata": {},
     "output_type": "execute_result"
    }
   ],
   "source": [
    "#亮度增强\n",
    "# p = p + 40\n",
    "import cv2\n",
    "import numpy as np\n",
    "img = cv2.imread(\"E:/tensflow/picturedeal/tim.jpg\",1)\n",
    "cv2.imshow('src',img)\n",
    "imgInfo = img.shape\n",
    "height = imgInfo[0]\n",
    "width = imgInfo[1]\n",
    "dst = np.zeros((height,width,3),np.uint8)\n",
    "for i in range(0,height):\n",
    "    for j in range(0,width):\n",
    "        (b,g,r) = img[i,j]\n",
    "        bb = int(b) + 40\n",
    "        gg = int(g) + 40\n",
    "        rr = int(r) + 40\n",
    "        if bb > 255:\n",
    "            bb = 255\n",
    "        if gg > 255:\n",
    "            gg = 255\n",
    "        if rr > 255:\n",
    "            rr = 255\n",
    "        dst[i,j] = (bb,gg,rr)\n",
    "cv2.imshow('dst',dst)\n",
    "cv2.waitKey(0)"
   ]
  },
  {
   "cell_type": "code",
   "execution_count": 3,
   "metadata": {},
   "outputs": [
    {
     "data": {
      "text/plain": [
       "-1"
      ]
     },
     "execution_count": 3,
     "metadata": {},
     "output_type": "execute_result"
    }
   ],
   "source": [
    "#亮度增强\n",
    "# p = p*1 + 40 \n",
    "import cv2\n",
    "import numpy as np\n",
    "img = cv2.imread(\"E:/tensflow/picturedeal/tim.jpg\",1)\n",
    "cv2.imshow('src',img)\n",
    "imgInfo = img.shape\n",
    "height = imgInfo[0]\n",
    "width = imgInfo[1]\n",
    "dst = np.zeros((height,width,3),np.uint8)\n",
    "for i in range(0,height):\n",
    "    for j in range(0,width):\n",
    "        (b,g,r) = img[i,j]\n",
    "        bb = int(b*1.2) + 10\n",
    "        gg = int(g*1.2) + 15\n",
    "#        rr = int(r*1.2) + 40\n",
    "        if bb > 255:\n",
    "            bb = 255\n",
    "        if gg > 255:\n",
    "            gg = 255\n",
    "#        if rr > 255:\n",
    " #           rr = 255\n",
    "        dst[i,j] = (bb,gg,r)\n",
    "cv2.imshow('dst',dst)\n",
    "cv2.waitKey(0)"
   ]
  },
  {
   "cell_type": "code",
   "execution_count": null,
   "metadata": {},
   "outputs": [],
   "source": [
    "#双边滤波\n",
    "import cv2\n",
    "img = cv2.imread(\"E:/tensflow/picturedeal/tim.jpg\",1)\n",
    "cv2.imshow('src',img)\n",
    "dst = cv2.bilateralFilter(img,15,35,35)\n",
    "cv2.imshow('dst',dst)\n",
    "cv2.waitKey(0)\n",
    "\n",
    "\n"
   ]
  }
 ],
 "metadata": {
  "kernelspec": {
   "display_name": "Python 3",
   "language": "python",
   "name": "python3"
  },
  "language_info": {
   "codemirror_mode": {
    "name": "ipython",
    "version": 3
   },
   "file_extension": ".py",
   "mimetype": "text/x-python",
   "name": "python",
   "nbconvert_exporter": "python",
   "pygments_lexer": "ipython3",
   "version": "3.7.1"
  }
 },
 "nbformat": 4,
 "nbformat_minor": 2
}
