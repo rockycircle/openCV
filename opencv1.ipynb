{
 "cells": [
  {
   "cell_type": "code",
   "execution_count": 7,
   "metadata": {},
   "outputs": [
    {
     "name": "stdout",
     "output_type": "stream",
     "text": [
      "(256, 256, 3)\n"
     ]
    },
    {
     "data": {
      "text/plain": [
       "-1"
      ]
     },
     "execution_count": 7,
     "metadata": {},
     "output_type": "execute_result"
    }
   ],
   "source": [
    "import cv2\n",
    "img = cv2.imread('N:/tensflow/picturedeal/tim.jpg',1)\n",
    "imgInfo = img.shape\n",
    "print(imgInfo)\n",
    "height = imgInfo[0]\n",
    "width = imgInfo[1]\n",
    "mode = imgInfo[2]\n",
    "#1 放大 缩小 2 等比例缩放 非等比例缩放 \n",
    "dstHeight = int(height*0.5)\n",
    "dstWidth = int(width*0.5)\n",
    "#最近邻域差值 双线性差值 像素关系重采样 立方差值\n",
    "dst = cv2.resize(img,(dstWidth,dstHeight))\n",
    "cv2.imshow('image',dst)\n",
    "cv2.waitKey()"
   ]
  },
  {
   "cell_type": "code",
   "execution_count": 1,
   "metadata": {},
   "outputs": [
    {
     "data": {
      "text/plain": [
       "-1"
      ]
     },
     "execution_count": 1,
     "metadata": {},
     "output_type": "execute_result"
    }
   ],
   "source": [
    "# 最近邻域差值 双线性差值 原理\n",
    "# src10*20 dst 5*10\n",
    "# dst<-src\n",
    "# (1,2) <-(2,4)\n",
    "# dst x 1 ->src x 2 new x\n",
    "# newx = x*(src 行/目标 行) newx = 1*(10/5) = 2\n",
    "# newy = y*(src 列/目标 列) newy = 2*(20/10) = 2\n",
    "# 12.3 = 12\n",
    "\n",
    "\n",
    "# 双线性差值        \n",
    "# A1 = 20% 上 + 80% 下 A2\n",
    "# B1 = 30% 左 + 70% 右 B2\n",
    "# 1 最终点 = A1 30% + A2 70%\n",
    "# 2 最终点 = B1 20% + B2 80%\n"
   ]
  },
  {
   "cell_type": "code",
   "execution_count": 5,
   "metadata": {},
   "outputs": [
    {
     "data": {
      "text/plain": [
       "-1"
      ]
     },
     "execution_count": 5,
     "metadata": {},
     "output_type": "execute_result"
    }
   ],
   "source": [
    "#1 info 2 空白模板 3 xy\n",
    "import cv2\n",
    "import numpy as np\n",
    "img = cv2.imread('N:/tensflow/picturedeal/tim.jpg',1)\n",
    "imgInfo = img.shape\n",
    "height = imgInfo[0]\n",
    "width  = imgInfo[1]\n",
    "dstHeight = int(height/2)\n",
    "dstWidth = int (width/2)\n",
    "dstImage = np.zeros((dstHeight,dstWidth,3),np.uint8) #o-255\n",
    "for i in range(0,dstHeight):# 行\n",
    "    for j in range(0,dstWidth): # 列\n",
    "        iNew = int (i*(height*1.0/dstHeight))\n",
    "        jNew = int(j*(width*1.0/dstWidth))\n",
    "        dstImage[i,j] =  img[iNew,jNew]\n",
    "cv2.imshow('dst',dstImage)\n",
    "cv2.waitKey(0)\n",
    "    \n",
    "\n"
   ]
  },
  {
   "cell_type": "code",
   "execution_count": 7,
   "metadata": {},
   "outputs": [
    {
     "data": {
      "text/plain": [
       "-1"
      ]
     },
     "execution_count": 7,
     "metadata": {},
     "output_type": "execute_result"
    }
   ],
   "source": [
    "# 图片剪切\n",
    "# 100-> 200 x\n",
    "# 100-> 250 y\n",
    "import cv2\n",
    "img = cv2.imread(\"N:/tensflow/picturedeal/tim.jpg\",1)\n",
    "imgInfo = img.shape\n",
    "dst = img[100:200,100:250]\n",
    "cv2.imshow(\"image\",dst)\n",
    "cv2.waitKey(0)\n",
    "\n"
   ]
  },
  {
   "cell_type": "code",
   "execution_count": 13,
   "metadata": {},
   "outputs": [
    {
     "data": {
      "text/plain": [
       "-1"
      ]
     },
     "execution_count": 13,
     "metadata": {},
     "output_type": "execute_result"
    }
   ],
   "source": [
    "# 图片移位\n",
    "import cv2\n",
    "import numpy as np\n",
    "img = cv2.imread(\"N:/tensflow/picturedeal/tim.jpg\",1)\n",
    "imgInfo = img.shape\n",
    "height = imgInfo[0]\n",
    "width = imgInfo[1]\n",
    "####\n",
    "matShift = np.float32([[1,0,100],[0,1,200]])# 2*3\n",
    "dst = cv2.warpAffine(img,matShift,(height,width)) # 1 data 2 mat 3 info\n",
    "#移位 矩阵\n",
    "cv2.imshow('dst',dst)\n",
    "cv2.waitKey(0)\n",
    "\n"
   ]
  },
  {
   "cell_type": "code",
   "execution_count": 14,
   "metadata": {},
   "outputs": [],
   "source": [
    "# [1,0,100],[0,1,200] 2*2 2*1\n",
    "# [[1,0],[0,1]]  2*2 A\n",
    "# [[100],[200]]  2*1 B\n",
    "# xy C\n",
    "# A*C+B = [[1*x+0*y],[0*x+1*y]]+[[100],[200]]\n",
    "# =[[x+100],[y+200]]\n",
    "\n",
    "#(10,20 ->(110,120))\n",
    "\n"
   ]
  },
  {
   "cell_type": "code",
   "execution_count": 3,
   "metadata": {},
   "outputs": [
    {
     "data": {
      "text/plain": [
       "-1"
      ]
     },
     "execution_count": 3,
     "metadata": {},
     "output_type": "execute_result"
    }
   ],
   "source": [
    "import cv2\n",
    "import numpy as np\n",
    "img = cv2.imread(\"N:/tensflow/picturedeal/tim.jpg\",1)\n",
    "cv2.imshow('image',img)\n",
    "imgInfo = img.shape\n",
    "dst = np.zeros(img.shape,np.uint8)\n",
    "height = imgInfo[0]\n",
    "width = imgInfo[1]\n",
    "for i in range(0,height):\n",
    "    for j in range(0,width-100):\n",
    "        dst[i,j+100] = img[i,j]\n",
    "cv2.imshow('image',dst) \n",
    "cv2.waitKey(0)\n",
    "\n",
    "\n"
   ]
  },
  {
   "cell_type": "code",
   "execution_count": 3,
   "metadata": {},
   "outputs": [
    {
     "data": {
      "text/plain": [
       "-1"
      ]
     },
     "execution_count": 3,
     "metadata": {},
     "output_type": "execute_result"
    }
   ],
   "source": [
    "import cv2\n",
    "import numpy as np\n",
    "img = cv2.imread(\"N:/tensflow/picturedeal/tim.jpg\",1)\n",
    "cv2.imshow('image',img)\n",
    "imgInfo = img.shape\n",
    "height = imgInfo[0]\n",
    "width = imgInfo[1]\n",
    "deep = imgInfo[2]\n",
    "newImgInfo = (height*2,width,deep)\n",
    "dst = np.zeros(newImgInfo,np.uint8)\n",
    "for i in range(0,height):\n",
    "    for j in range(0,width):\n",
    "        dst[i,j] = img[i,j]\n",
    "        # x y  =2*h - y -1\n",
    "        dst[height*2-i-1,j] = img[i,j]\n",
    "        \n",
    "for i in range(0,width):\n",
    "    dst[height,i] = (0,0,255)# B G R\n",
    "cv2.imshow('image',dst)        \n",
    "cv2.waitKey(0)\n",
    "\n",
    "\n"
   ]
  },
  {
   "cell_type": "code",
   "execution_count": 2,
   "metadata": {},
   "outputs": [
    {
     "data": {
      "text/plain": [
       "-1"
      ]
     },
     "execution_count": 2,
     "metadata": {},
     "output_type": "execute_result"
    }
   ],
   "source": [
    "#图片缩放\n",
    "#[[A1 A2 B1],[A3 A4 B2]]\n",
    "#[[A1 A2],[A3 A4]]  [[B1],[B2]]\n",
    "# newX = A1*x + A2*y+B1\n",
    "# newY = A3*x + A4*y+B2\n",
    "# x->x*0.5  y->y*0.5\n",
    "# newX = 0.5*x\n",
    "import cv2\n",
    "import numpy as np\n",
    "img = cv2.imread(\"N:/tensflow/picturedeal/tim.jpg\",1)\n",
    "cv2.imshow('image',img)\n",
    "imgInfo = img.shape\n",
    "height = imgInfo[0]\n",
    "width = imgInfo[1]\n",
    "matScale = np.float32([[0.5,0,0],[0,0.5,0]])\n",
    "dst = cv2.warpAffine(img,matScale,(int(width/2),int(height/2)))\n",
    "cv2.imshow('dst',dst)\n",
    "cv2.waitKey(0)\n",
    "\n"
   ]
  },
  {
   "cell_type": "code",
   "execution_count": 5,
   "metadata": {},
   "outputs": [
    {
     "data": {
      "text/plain": [
       "-1"
      ]
     },
     "execution_count": 5,
     "metadata": {},
     "output_type": "execute_result"
    }
   ],
   "source": [
    "#图片的仿射变换\n",
    "import cv2\n",
    "import numpy as np\n",
    "img = cv2.imread(\"N:/tensflow/picturedeal/tim.jpg\",1)\n",
    "cv2.imshow('image',img)\n",
    "imgInfo = img.shape\n",
    "height = imgInfo[0]\n",
    "width = imgInfo[1]\n",
    "matSrc = np.float32([[0,0],[0,height-1],[width-1,0]])\n",
    "matDst = np.float32([[50,50],[200,height-170],[width-200,100]])\n",
    "#组合\n",
    "matAffine = cv2.getAffineTransform(matSrc,matDst)# 1 src 2 dst\n",
    "dst = cv2.warpAffine(img,matAffine,(width,height))\n",
    "cv2.imshow('dst',dst)\n",
    "cv2.waitKey(0)\n",
    "\n",
    "\n",
    "\n"
   ]
  },
  {
   "cell_type": "code",
   "execution_count": 6,
   "metadata": {},
   "outputs": [
    {
     "data": {
      "text/plain": [
       "-1"
      ]
     },
     "execution_count": 6,
     "metadata": {},
     "output_type": "execute_result"
    }
   ],
   "source": [
    "#图片的旋转\n",
    "import cv2\n",
    "import numpy as np\n",
    "img = cv2.imread(\"N:/tensflow/picturedeal/tim.jpg\",1)\n",
    "cv2.imshow('image',img)\n",
    "imgInfo = img.shape\n",
    "height = imgInfo[0]\n",
    "width = imgInfo[1]\n",
    "matRotate = cv2.getRotationMatrix2D((height*0.5,width*0.5),45,0.5)#mat rotate 1 center 2 angle(角度) 3scale（缩放）\n",
    "dst = cv2.warpAffine(img,matRotate,(height,width))\n",
    "cv2.imshow('dst',dst)\n",
    "cv2.waitKey(0)\n",
    "\n",
    "\n",
    "\n",
    "\n",
    "\n",
    "\n",
    "\n",
    "\n"
   ]
  },
  {
   "cell_type": "code",
   "execution_count": null,
   "metadata": {},
   "outputs": [],
   "source": []
  }
 ],
 "metadata": {
  "kernelspec": {
   "display_name": "Python 3",
   "language": "python",
   "name": "python3"
  },
  "language_info": {
   "codemirror_mode": {
    "name": "ipython",
    "version": 3
   },
   "file_extension": ".py",
   "mimetype": "text/x-python",
   "name": "python",
   "nbconvert_exporter": "python",
   "pygments_lexer": "ipython3",
   "version": "3.6.5"
  }
 },
 "nbformat": 4,
 "nbformat_minor": 2
}
